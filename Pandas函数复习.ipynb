{
 "cells": [
  {
   "cell_type": "markdown",
   "id": "793a1d75",
   "metadata": {},
   "source": [
    "## 1. 稀土掘金：这20个Pandas函数，让你的\"数据清洗\"能力提升100倍\n",
    "\n",
    "url:https://juejin.cn/post/7041744236969984030?utm_source=gold_browser_extension\n",
    "\n"
   ]
  },
  {
   "cell_type": "code",
   "execution_count": 2,
   "id": "6e0117cf",
   "metadata": {
    "scrolled": false
   },
   "outputs": [
    {
     "data": {
      "text/html": [
       "<div>\n",
       "<style scoped>\n",
       "    .dataframe tbody tr th:only-of-type {\n",
       "        vertical-align: middle;\n",
       "    }\n",
       "\n",
       "    .dataframe tbody tr th {\n",
       "        vertical-align: top;\n",
       "    }\n",
       "\n",
       "    .dataframe thead th {\n",
       "        text-align: right;\n",
       "    }\n",
       "</style>\n",
       "<table border=\"1\" class=\"dataframe\">\n",
       "  <thead>\n",
       "    <tr style=\"text-align: right;\">\n",
       "      <th></th>\n",
       "      <th>姓名</th>\n",
       "      <th>英文名</th>\n",
       "      <th>性别</th>\n",
       "      <th>身份证</th>\n",
       "      <th>身高</th>\n",
       "      <th>家庭住址</th>\n",
       "      <th>电话号码</th>\n",
       "      <th>收入</th>\n",
       "    </tr>\n",
       "  </thead>\n",
       "  <tbody>\n",
       "    <tr>\n",
       "      <th>0</th>\n",
       "      <td>黄同学</td>\n",
       "      <td>Huang tong_xue</td>\n",
       "      <td>男</td>\n",
       "      <td>463895200003128433</td>\n",
       "      <td>mid:175_good</td>\n",
       "      <td>湖北广水</td>\n",
       "      <td>13434813546</td>\n",
       "      <td>1.1万</td>\n",
       "    </tr>\n",
       "    <tr>\n",
       "      <th>1</th>\n",
       "      <td>黄至尊</td>\n",
       "      <td>huang zhi_zun</td>\n",
       "      <td>women</td>\n",
       "      <td>429475199912122345</td>\n",
       "      <td>low:165_bad</td>\n",
       "      <td>河南信阳</td>\n",
       "      <td>19748672895</td>\n",
       "      <td>8.5千</td>\n",
       "    </tr>\n",
       "    <tr>\n",
       "      <th>2</th>\n",
       "      <td>黄老邪</td>\n",
       "      <td>Huang Lao_xie</td>\n",
       "      <td>men</td>\n",
       "      <td>420934199110102311</td>\n",
       "      <td>low:159_bad</td>\n",
       "      <td>广西桂林</td>\n",
       "      <td>16728613064</td>\n",
       "      <td>0.9万</td>\n",
       "    </tr>\n",
       "    <tr>\n",
       "      <th>3</th>\n",
       "      <td>陈大美</td>\n",
       "      <td>Chen Da_mei</td>\n",
       "      <td>女</td>\n",
       "      <td>431085200005230122</td>\n",
       "      <td>high:180_verygood</td>\n",
       "      <td>湖北孝感</td>\n",
       "      <td>14561586431</td>\n",
       "      <td>6.5千</td>\n",
       "    </tr>\n",
       "    <tr>\n",
       "      <th>4</th>\n",
       "      <td>孙尚香</td>\n",
       "      <td>sun shang_xiang</td>\n",
       "      <td>男</td>\n",
       "      <td>420953199509082345</td>\n",
       "      <td>low:172_bad</td>\n",
       "      <td>广东广州</td>\n",
       "      <td>19384683910</td>\n",
       "      <td>2.0万</td>\n",
       "    </tr>\n",
       "  </tbody>\n",
       "</table>\n",
       "</div>"
      ],
      "text/plain": [
       "     姓名              英文名     性别                 身份证                 身高  家庭住址  \\\n",
       "0   黄同学   Huang tong_xue      男  463895200003128433       mid:175_good  湖北广水   \n",
       "1   黄至尊    huang zhi_zun  women  429475199912122345        low:165_bad  河南信阳   \n",
       "2  黄老邪     Huang Lao_xie    men  420934199110102311        low:159_bad  广西桂林   \n",
       "3   陈大美      Chen Da_mei      女  431085200005230122  high:180_verygood  湖北孝感   \n",
       "4   孙尚香  sun shang_xiang      男  420953199509082345        low:172_bad  广东广州   \n",
       "\n",
       "          电话号码    收入  \n",
       "0  13434813546  1.1万  \n",
       "1  19748672895  8.5千  \n",
       "2  16728613064  0.9万  \n",
       "3  14561586431  6.5千  \n",
       "4  19384683910  2.0万  "
      ]
     },
     "execution_count": 2,
     "metadata": {},
     "output_type": "execute_result"
    }
   ],
   "source": [
    "import pandas as pd\n",
    "df ={'姓名':[' 黄同学','黄至尊','黄老邪 ','陈大美','孙尚香'],\n",
    "     '英文名':['Huang tong_xue','huang zhi_zun','Huang Lao_xie','Chen Da_mei','sun shang_xiang'],\n",
    "     '性别':['男','women','men','女','男'],\n",
    "     '身份证':['463895200003128433','429475199912122345','420934199110102311','431085200005230122','420953199509082345'],\n",
    "     '身高':['mid:175_good','low:165_bad','low:159_bad','high:180_verygood','low:172_bad'],\n",
    "     '家庭住址':['湖北广水','河南信阳','广西桂林','湖北孝感','广东广州'],\n",
    "     '电话号码':['13434813546','19748672895','16728613064','14561586431','19384683910'],\n",
    "     '收入':['1.1万','8.5千','0.9万','6.5千','2.0万']}\n",
    "df = pd.DataFrame(df)\n",
    "df\n"
   ]
  },
  {
   "cell_type": "markdown",
   "id": "4e9af2d9",
   "metadata": {},
   "source": [
    "### cat 函数拼接字符串"
   ]
  },
  {
   "cell_type": "code",
   "execution_count": 3,
   "id": "818a894d",
   "metadata": {
    "scrolled": true
   },
   "outputs": [
    {
     "data": {
      "text/plain": [
       "0     黄同学---湖北广水\n",
       "1     黄至尊---河南信阳\n",
       "2    黄老邪 ---广西桂林\n",
       "3     陈大美---湖北孝感\n",
       "4     孙尚香---广东广州\n",
       "Name: 姓名, dtype: object"
      ]
     },
     "execution_count": 3,
     "metadata": {},
     "output_type": "execute_result"
    }
   ],
   "source": [
    "df[\"姓名\"].str.cat(df[\"家庭住址\"],sep='-'*3)"
   ]
  },
  {
   "cell_type": "markdown",
   "id": "87972928",
   "metadata": {},
   "source": [
    "### contain 函数判断字符串包含"
   ]
  },
  {
   "cell_type": "code",
   "execution_count": 4,
   "id": "09d2ac28",
   "metadata": {},
   "outputs": [
    {
     "data": {
      "text/plain": [
       "0     True\n",
       "1    False\n",
       "2     True\n",
       "3    False\n",
       "4     True\n",
       "Name: 家庭住址, dtype: bool"
      ]
     },
     "execution_count": 4,
     "metadata": {},
     "output_type": "execute_result"
    }
   ],
   "source": [
    "df[\"家庭住址\"].str.contains(\"广\")"
   ]
  },
  {
   "cell_type": "markdown",
   "id": "968b281a",
   "metadata": {},
   "source": [
    "### startwith endwith 函数判断字符串首尾"
   ]
  },
  {
   "cell_type": "code",
   "execution_count": 8,
   "id": "e6b66d9d",
   "metadata": {},
   "outputs": [
    {
     "data": {
      "text/plain": [
       "0    False\n",
       "1     True\n",
       "2     True\n",
       "3    False\n",
       "4    False\n",
       "Name: 姓名, dtype: bool"
      ]
     },
     "execution_count": 8,
     "metadata": {},
     "output_type": "execute_result"
    }
   ],
   "source": [
    "# 第一个行的“ 黄伟”是以空格开头的\n",
    "df[\"姓名\"].str.startswith(\"黄\") \n"
   ]
  },
  {
   "cell_type": "code",
   "execution_count": 7,
   "id": "d6f685c7",
   "metadata": {},
   "outputs": [
    {
     "data": {
      "text/plain": [
       "0     True\n",
       "1    False\n",
       "2     True\n",
       "3    False\n",
       "4    False\n",
       "Name: 英文名, dtype: bool"
      ]
     },
     "execution_count": 7,
     "metadata": {},
     "output_type": "execute_result"
    }
   ],
   "source": [
    "df[\"英文名\"].str.endswith(\"e\")"
   ]
  },
  {
   "cell_type": "markdown",
   "id": "bfffc75e",
   "metadata": {},
   "source": [
    "### count 函数统计字符在字符串中出现的次数"
   ]
  },
  {
   "cell_type": "code",
   "execution_count": 9,
   "id": "c3b2c18f",
   "metadata": {},
   "outputs": [
    {
     "data": {
      "text/plain": [
       "0    3\n",
       "1    0\n",
       "2    1\n",
       "3    1\n",
       "4    2\n",
       "Name: 电话号码, dtype: int64"
      ]
     },
     "execution_count": 9,
     "metadata": {},
     "output_type": "execute_result"
    }
   ],
   "source": [
    "df[\"电话号码\"].str.count(\"3\")"
   ]
  },
  {
   "cell_type": "markdown",
   "id": "c252ffbf",
   "metadata": {},
   "source": [
    "### get 函数获取字符串指定位置的字符"
   ]
  },
  {
   "cell_type": "code",
   "execution_count": 10,
   "id": "312f2410",
   "metadata": {},
   "outputs": [
    {
     "data": {
      "text/plain": [
       "0    学\n",
       "1    尊\n",
       "2     \n",
       "3    美\n",
       "4    香\n",
       "Name: 姓名, dtype: object"
      ]
     },
     "execution_count": 10,
     "metadata": {},
     "output_type": "execute_result"
    }
   ],
   "source": [
    "df[\"姓名\"].str.get(-1)"
   ]
  },
  {
   "cell_type": "code",
   "execution_count": 11,
   "id": "330cc55c",
   "metadata": {},
   "outputs": [
    {
     "data": {
      "text/plain": [
       "0         [mid, 175_good]\n",
       "1          [low, 165_bad]\n",
       "2          [low, 159_bad]\n",
       "3    [high, 180_verygood]\n",
       "4          [low, 172_bad]\n",
       "Name: 身高, dtype: object"
      ]
     },
     "execution_count": 11,
     "metadata": {},
     "output_type": "execute_result"
    }
   ],
   "source": [
    "df[\"身高\"].str.split(\":\")"
   ]
  },
  {
   "cell_type": "code",
   "execution_count": 12,
   "id": "2f748e96",
   "metadata": {},
   "outputs": [
    {
     "data": {
      "text/plain": [
       "0     mid\n",
       "1     low\n",
       "2     low\n",
       "3    high\n",
       "4     low\n",
       "Name: 身高, dtype: object"
      ]
     },
     "execution_count": 12,
     "metadata": {},
     "output_type": "execute_result"
    }
   ],
   "source": [
    "df[\"身高\"].str.split(\":\").str.get(0)"
   ]
  },
  {
   "cell_type": "markdown",
   "id": "093b9948",
   "metadata": {},
   "source": [
    "### len 函数计算字符串长度"
   ]
  },
  {
   "cell_type": "code",
   "execution_count": 13,
   "id": "9506e23b",
   "metadata": {},
   "outputs": [
    {
     "data": {
      "text/plain": [
       "0    1\n",
       "1    5\n",
       "2    3\n",
       "3    1\n",
       "4    1\n",
       "Name: 性别, dtype: int64"
      ]
     },
     "execution_count": 13,
     "metadata": {},
     "output_type": "execute_result"
    }
   ],
   "source": [
    "df[\"性别\"].str.len()"
   ]
  },
  {
   "cell_type": "markdown",
   "id": "451823ff",
   "metadata": {},
   "source": [
    "### upper lower 函数英文大小写转换"
   ]
  },
  {
   "cell_type": "code",
   "execution_count": 14,
   "id": "2d77f934",
   "metadata": {},
   "outputs": [
    {
     "data": {
      "text/plain": [
       "0     HUANG TONG_XUE\n",
       "1      HUANG ZHI_ZUN\n",
       "2      HUANG LAO_XIE\n",
       "3        CHEN DA_MEI\n",
       "4    SUN SHANG_XIANG\n",
       "Name: 英文名, dtype: object"
      ]
     },
     "execution_count": 14,
     "metadata": {},
     "output_type": "execute_result"
    }
   ],
   "source": [
    "df[\"英文名\"].str.upper()"
   ]
  },
  {
   "cell_type": "code",
   "execution_count": 15,
   "id": "e5fc71d7",
   "metadata": {},
   "outputs": [
    {
     "data": {
      "text/plain": [
       "0     huang tong_xue\n",
       "1      huang zhi_zun\n",
       "2      huang lao_xie\n",
       "3        chen da_mei\n",
       "4    sun shang_xiang\n",
       "Name: 英文名, dtype: object"
      ]
     },
     "execution_count": 15,
     "metadata": {},
     "output_type": "execute_result"
    }
   ],
   "source": [
    "df[\"英文名\"].str.lower()"
   ]
  },
  {
   "cell_type": "markdown",
   "id": "807bcd23",
   "metadata": {},
   "source": [
    "### pad函数+side参数/center函数 在字符串左右添加字符"
   ]
  },
  {
   "cell_type": "code",
   "execution_count": 16,
   "id": "295fff3c",
   "metadata": {},
   "outputs": [
    {
     "data": {
      "text/plain": [
       "0    ******湖北广水\n",
       "1    ******河南信阳\n",
       "2    ******广西桂林\n",
       "3    ******湖北孝感\n",
       "4    ******广东广州\n",
       "Name: 家庭住址, dtype: object"
      ]
     },
     "execution_count": 16,
     "metadata": {},
     "output_type": "execute_result"
    }
   ],
   "source": [
    "df[\"家庭住址\"].str.pad(10,fillchar=\"*\")      # 相当于字符串的ljust()方法"
   ]
  },
  {
   "cell_type": "code",
   "execution_count": 17,
   "id": "b4e98fa6",
   "metadata": {},
   "outputs": [
    {
     "data": {
      "text/plain": [
       "0    湖北广水******\n",
       "1    河南信阳******\n",
       "2    广西桂林******\n",
       "3    湖北孝感******\n",
       "4    广东广州******\n",
       "Name: 家庭住址, dtype: object"
      ]
     },
     "execution_count": 17,
     "metadata": {},
     "output_type": "execute_result"
    }
   ],
   "source": [
    "df[\"家庭住址\"].str.pad(10,side=\"right\",fillchar=\"*\")    # 相当于rjust()"
   ]
  },
  {
   "cell_type": "code",
   "execution_count": 18,
   "id": "00e784d3",
   "metadata": {},
   "outputs": [
    {
     "data": {
      "text/plain": [
       "0    ***湖北广水***\n",
       "1    ***河南信阳***\n",
       "2    ***广西桂林***\n",
       "3    ***湖北孝感***\n",
       "4    ***广东广州***\n",
       "Name: 家庭住址, dtype: object"
      ]
     },
     "execution_count": 18,
     "metadata": {},
     "output_type": "execute_result"
    }
   ],
   "source": [
    "df[\"家庭住址\"].str.center(10,fillchar=\"*\")"
   ]
  },
  {
   "cell_type": "markdown",
   "id": "8dd14175",
   "metadata": {},
   "source": [
    "### repeat函数 重复字符串"
   ]
  },
  {
   "cell_type": "code",
   "execution_count": 19,
   "id": "75ff16ce",
   "metadata": {},
   "outputs": [
    {
     "data": {
      "text/plain": [
       "0                男男男\n",
       "1    womenwomenwomen\n",
       "2          menmenmen\n",
       "3                女女女\n",
       "4                男男男\n",
       "Name: 性别, dtype: object"
      ]
     },
     "execution_count": 19,
     "metadata": {},
     "output_type": "execute_result"
    }
   ],
   "source": [
    "df[\"性别\"].str.repeat(3)"
   ]
  },
  {
   "cell_type": "markdown",
   "id": "201ca249",
   "metadata": {},
   "source": [
    "### slice_replace函数 切片替换"
   ]
  },
  {
   "cell_type": "code",
   "execution_count": 22,
   "id": "ceedbd32",
   "metadata": {},
   "outputs": [
    {
     "data": {
      "text/plain": [
       "0    1343****546\n",
       "1    1974****895\n",
       "2    1672****064\n",
       "3    1456****431\n",
       "4    1938****910\n",
       "Name: 电话号码, dtype: object"
      ]
     },
     "execution_count": 22,
     "metadata": {},
     "output_type": "execute_result"
    }
   ],
   "source": [
    "df[\"电话号码\"].str.slice_replace(4,8,\"*\"*4)"
   ]
  },
  {
   "cell_type": "markdown",
   "id": "bd2eab79",
   "metadata": {},
   "source": [
    "### replace函数在指定位置替换（接受正则表达式）"
   ]
  },
  {
   "cell_type": "code",
   "execution_count": 24,
   "id": "47ad8d6c",
   "metadata": {},
   "outputs": [
    {
     "data": {
      "text/plain": [
       "0         mid-175_good\n",
       "1          low-165_bad\n",
       "2          low-159_bad\n",
       "3    high-180_verygood\n",
       "4          low-172_bad\n",
       "Name: 身高, dtype: object"
      ]
     },
     "execution_count": 24,
     "metadata": {},
     "output_type": "execute_result"
    }
   ],
   "source": [
    "df[\"身高\"].str.replace(\":\",\"-\")"
   ]
  },
  {
   "cell_type": "code",
   "execution_count": 28,
   "id": "a8cc11e1",
   "metadata": {},
   "outputs": [
    {
     "name": "stderr",
     "output_type": "stream",
     "text": [
      "C:\\Users\\cheny\\AppData\\Local\\Temp/ipykernel_10696/1110992322.py:1: FutureWarning: The default value of regex will change from True to False in a future version.\n",
      "  df[\"收入\"].str.replace(\"\\d+\\.\\d+\",\"点\")\n"
     ]
    },
    {
     "data": {
      "text/plain": [
       "0    点万\n",
       "1    点千\n",
       "2    点万\n",
       "3    点千\n",
       "4    点万\n",
       "Name: 收入, dtype: object"
      ]
     },
     "execution_count": 28,
     "metadata": {},
     "output_type": "execute_result"
    }
   ],
   "source": [
    "df[\"收入\"].str.replace(\"\\d+\\.\\d+\",\"点\")"
   ]
  },
  {
   "cell_type": "markdown",
   "id": "e6e14d1d",
   "metadata": {},
   "source": [
    "### split函数+expand参数"
   ]
  },
  {
   "cell_type": "code",
   "execution_count": 29,
   "id": "2aff904a",
   "metadata": {},
   "outputs": [
    {
     "data": {
      "text/plain": [
       "0         [mid, 175_good]\n",
       "1          [low, 165_bad]\n",
       "2          [low, 159_bad]\n",
       "3    [high, 180_verygood]\n",
       "4          [low, 172_bad]\n",
       "Name: 身高, dtype: object"
      ]
     },
     "execution_count": 29,
     "metadata": {},
     "output_type": "execute_result"
    }
   ],
   "source": [
    "df[\"身高\"].str.split(\":\")"
   ]
  },
  {
   "cell_type": "code",
   "execution_count": 30,
   "id": "729074c0",
   "metadata": {},
   "outputs": [
    {
     "data": {
      "text/html": [
       "<div>\n",
       "<style scoped>\n",
       "    .dataframe tbody tr th:only-of-type {\n",
       "        vertical-align: middle;\n",
       "    }\n",
       "\n",
       "    .dataframe tbody tr th {\n",
       "        vertical-align: top;\n",
       "    }\n",
       "\n",
       "    .dataframe thead th {\n",
       "        text-align: right;\n",
       "    }\n",
       "</style>\n",
       "<table border=\"1\" class=\"dataframe\">\n",
       "  <thead>\n",
       "    <tr style=\"text-align: right;\">\n",
       "      <th></th>\n",
       "      <th>姓名</th>\n",
       "      <th>英文名</th>\n",
       "      <th>性别</th>\n",
       "      <th>身份证</th>\n",
       "      <th>身高</th>\n",
       "      <th>家庭住址</th>\n",
       "      <th>电话号码</th>\n",
       "      <th>收入</th>\n",
       "      <th>身高描述</th>\n",
       "      <th>final身高</th>\n",
       "    </tr>\n",
       "  </thead>\n",
       "  <tbody>\n",
       "    <tr>\n",
       "      <th>0</th>\n",
       "      <td>黄同学</td>\n",
       "      <td>Huang tong_xue</td>\n",
       "      <td>男</td>\n",
       "      <td>463895200003128433</td>\n",
       "      <td>mid:175_good</td>\n",
       "      <td>湖北广水</td>\n",
       "      <td>13434813546</td>\n",
       "      <td>1.1万</td>\n",
       "      <td>mid</td>\n",
       "      <td>175_good</td>\n",
       "    </tr>\n",
       "    <tr>\n",
       "      <th>1</th>\n",
       "      <td>黄至尊</td>\n",
       "      <td>huang zhi_zun</td>\n",
       "      <td>women</td>\n",
       "      <td>429475199912122345</td>\n",
       "      <td>low:165_bad</td>\n",
       "      <td>河南信阳</td>\n",
       "      <td>19748672895</td>\n",
       "      <td>8.5千</td>\n",
       "      <td>low</td>\n",
       "      <td>165_bad</td>\n",
       "    </tr>\n",
       "    <tr>\n",
       "      <th>2</th>\n",
       "      <td>黄老邪</td>\n",
       "      <td>Huang Lao_xie</td>\n",
       "      <td>men</td>\n",
       "      <td>420934199110102311</td>\n",
       "      <td>low:159_bad</td>\n",
       "      <td>广西桂林</td>\n",
       "      <td>16728613064</td>\n",
       "      <td>0.9万</td>\n",
       "      <td>low</td>\n",
       "      <td>159_bad</td>\n",
       "    </tr>\n",
       "    <tr>\n",
       "      <th>3</th>\n",
       "      <td>陈大美</td>\n",
       "      <td>Chen Da_mei</td>\n",
       "      <td>女</td>\n",
       "      <td>431085200005230122</td>\n",
       "      <td>high:180_verygood</td>\n",
       "      <td>湖北孝感</td>\n",
       "      <td>14561586431</td>\n",
       "      <td>6.5千</td>\n",
       "      <td>high</td>\n",
       "      <td>180_verygood</td>\n",
       "    </tr>\n",
       "    <tr>\n",
       "      <th>4</th>\n",
       "      <td>孙尚香</td>\n",
       "      <td>sun shang_xiang</td>\n",
       "      <td>男</td>\n",
       "      <td>420953199509082345</td>\n",
       "      <td>low:172_bad</td>\n",
       "      <td>广东广州</td>\n",
       "      <td>19384683910</td>\n",
       "      <td>2.0万</td>\n",
       "      <td>low</td>\n",
       "      <td>172_bad</td>\n",
       "    </tr>\n",
       "  </tbody>\n",
       "</table>\n",
       "</div>"
      ],
      "text/plain": [
       "     姓名              英文名     性别                 身份证                 身高  家庭住址  \\\n",
       "0   黄同学   Huang tong_xue      男  463895200003128433       mid:175_good  湖北广水   \n",
       "1   黄至尊    huang zhi_zun  women  429475199912122345        low:165_bad  河南信阳   \n",
       "2  黄老邪     Huang Lao_xie    men  420934199110102311        low:159_bad  广西桂林   \n",
       "3   陈大美      Chen Da_mei      女  431085200005230122  high:180_verygood  湖北孝感   \n",
       "4   孙尚香  sun shang_xiang      男  420953199509082345        low:172_bad  广东广州   \n",
       "\n",
       "          电话号码    收入  身高描述       final身高  \n",
       "0  13434813546  1.1万   mid      175_good  \n",
       "1  19748672895  8.5千   low       165_bad  \n",
       "2  16728613064  0.9万   low       159_bad  \n",
       "3  14561586431  6.5千  high  180_verygood  \n",
       "4  19384683910  2.0万   low       172_bad  "
      ]
     },
     "execution_count": 30,
     "metadata": {},
     "output_type": "execute_result"
    }
   ],
   "source": [
    "# split方法，搭配expand参数\n",
    "df[[\"身高描述\",\"final身高\"]] = df[\"身高\"].str.split(\":\",expand=True)\n",
    "df"
   ]
  },
  {
   "cell_type": "code",
   "execution_count": 31,
   "id": "52f8b885",
   "metadata": {},
   "outputs": [
    {
     "data": {
      "text/plain": [
       "0         mid?????175_good\n",
       "1          low?????165_bad\n",
       "2          low?????159_bad\n",
       "3    high?????180_verygood\n",
       "4          low?????172_bad\n",
       "Name: 身高, dtype: object"
      ]
     },
     "execution_count": 31,
     "metadata": {},
     "output_type": "execute_result"
    }
   ],
   "source": [
    "df[\"身高\"].str.split(\":\").str.join(\"?\"*5)"
   ]
  },
  {
   "cell_type": "markdown",
   "id": "85e0ffd1",
   "metadata": {},
   "source": [
    "### strip、rstrip、lstrip函数 去除空白，换行符等"
   ]
  },
  {
   "cell_type": "code",
   "execution_count": 40,
   "id": "48fb7eb4",
   "metadata": {},
   "outputs": [
    {
     "data": {
      "text/plain": [
       "0    3\n",
       "1    3\n",
       "2    3\n",
       "3    3\n",
       "4    3\n",
       "Name: 姓名, dtype: int64"
      ]
     },
     "execution_count": 40,
     "metadata": {},
     "output_type": "execute_result"
    }
   ],
   "source": [
    "df[\"姓名\"].str.len()\n"
   ]
  },
  {
   "cell_type": "code",
   "execution_count": 41,
   "id": "9a41e70e",
   "metadata": {},
   "outputs": [
    {
     "data": {
      "text/html": [
       "<div>\n",
       "<style scoped>\n",
       "    .dataframe tbody tr th:only-of-type {\n",
       "        vertical-align: middle;\n",
       "    }\n",
       "\n",
       "    .dataframe tbody tr th {\n",
       "        vertical-align: top;\n",
       "    }\n",
       "\n",
       "    .dataframe thead th {\n",
       "        text-align: right;\n",
       "    }\n",
       "</style>\n",
       "<table border=\"1\" class=\"dataframe\">\n",
       "  <thead>\n",
       "    <tr style=\"text-align: right;\">\n",
       "      <th></th>\n",
       "      <th>姓名</th>\n",
       "      <th>英文名</th>\n",
       "      <th>性别</th>\n",
       "      <th>身份证</th>\n",
       "      <th>身高</th>\n",
       "      <th>家庭住址</th>\n",
       "      <th>电话号码</th>\n",
       "      <th>收入</th>\n",
       "      <th>身高描述</th>\n",
       "      <th>final身高</th>\n",
       "    </tr>\n",
       "  </thead>\n",
       "  <tbody>\n",
       "    <tr>\n",
       "      <th>0</th>\n",
       "      <td>黄同学</td>\n",
       "      <td>Huang tong_xue</td>\n",
       "      <td>男</td>\n",
       "      <td>463895200003128433</td>\n",
       "      <td>mid:175_good</td>\n",
       "      <td>湖北广水</td>\n",
       "      <td>13434813546</td>\n",
       "      <td>1.1万</td>\n",
       "      <td>mid</td>\n",
       "      <td>175_good</td>\n",
       "    </tr>\n",
       "    <tr>\n",
       "      <th>1</th>\n",
       "      <td>黄至尊</td>\n",
       "      <td>huang zhi_zun</td>\n",
       "      <td>women</td>\n",
       "      <td>429475199912122345</td>\n",
       "      <td>low:165_bad</td>\n",
       "      <td>河南信阳</td>\n",
       "      <td>19748672895</td>\n",
       "      <td>8.5千</td>\n",
       "      <td>low</td>\n",
       "      <td>165_bad</td>\n",
       "    </tr>\n",
       "    <tr>\n",
       "      <th>2</th>\n",
       "      <td>黄老邪</td>\n",
       "      <td>Huang Lao_xie</td>\n",
       "      <td>men</td>\n",
       "      <td>420934199110102311</td>\n",
       "      <td>low:159_bad</td>\n",
       "      <td>广西桂林</td>\n",
       "      <td>16728613064</td>\n",
       "      <td>0.9万</td>\n",
       "      <td>low</td>\n",
       "      <td>159_bad</td>\n",
       "    </tr>\n",
       "    <tr>\n",
       "      <th>3</th>\n",
       "      <td>陈大美</td>\n",
       "      <td>Chen Da_mei</td>\n",
       "      <td>女</td>\n",
       "      <td>431085200005230122</td>\n",
       "      <td>high:180_verygood</td>\n",
       "      <td>湖北孝感</td>\n",
       "      <td>14561586431</td>\n",
       "      <td>6.5千</td>\n",
       "      <td>high</td>\n",
       "      <td>180_verygood</td>\n",
       "    </tr>\n",
       "    <tr>\n",
       "      <th>4</th>\n",
       "      <td>孙尚香</td>\n",
       "      <td>sun shang_xiang</td>\n",
       "      <td>男</td>\n",
       "      <td>420953199509082345</td>\n",
       "      <td>low:172_bad</td>\n",
       "      <td>广东广州</td>\n",
       "      <td>19384683910</td>\n",
       "      <td>2.0万</td>\n",
       "      <td>low</td>\n",
       "      <td>172_bad</td>\n",
       "    </tr>\n",
       "  </tbody>\n",
       "</table>\n",
       "</div>"
      ],
      "text/plain": [
       "    姓名              英文名     性别                 身份证                 身高  家庭住址  \\\n",
       "0  黄同学   Huang tong_xue      男  463895200003128433       mid:175_good  湖北广水   \n",
       "1  黄至尊    huang zhi_zun  women  429475199912122345        low:165_bad  河南信阳   \n",
       "2  黄老邪    Huang Lao_xie    men  420934199110102311        low:159_bad  广西桂林   \n",
       "3  陈大美      Chen Da_mei      女  431085200005230122  high:180_verygood  湖北孝感   \n",
       "4  孙尚香  sun shang_xiang      男  420953199509082345        low:172_bad  广东广州   \n",
       "\n",
       "          电话号码    收入  身高描述       final身高  \n",
       "0  13434813546  1.1万   mid      175_good  \n",
       "1  19748672895  8.5千   low       165_bad  \n",
       "2  16728613064  0.9万   low       159_bad  \n",
       "3  14561586431  6.5千  high  180_verygood  \n",
       "4  19384683910  2.0万   low       172_bad  "
      ]
     },
     "execution_count": 41,
     "metadata": {},
     "output_type": "execute_result"
    }
   ],
   "source": [
    "df"
   ]
  },
  {
   "cell_type": "code",
   "execution_count": 42,
   "id": "80e96494",
   "metadata": {},
   "outputs": [
    {
     "data": {
      "text/html": [
       "<div>\n",
       "<style scoped>\n",
       "    .dataframe tbody tr th:only-of-type {\n",
       "        vertical-align: middle;\n",
       "    }\n",
       "\n",
       "    .dataframe tbody tr th {\n",
       "        vertical-align: top;\n",
       "    }\n",
       "\n",
       "    .dataframe thead th {\n",
       "        text-align: right;\n",
       "    }\n",
       "</style>\n",
       "<table border=\"1\" class=\"dataframe\">\n",
       "  <thead>\n",
       "    <tr style=\"text-align: right;\">\n",
       "      <th></th>\n",
       "      <th>姓名</th>\n",
       "      <th>英文名</th>\n",
       "      <th>性别</th>\n",
       "      <th>身份证</th>\n",
       "      <th>身高</th>\n",
       "      <th>家庭住址</th>\n",
       "      <th>电话号码</th>\n",
       "      <th>收入</th>\n",
       "      <th>身高描述</th>\n",
       "      <th>final身高</th>\n",
       "    </tr>\n",
       "  </thead>\n",
       "  <tbody>\n",
       "    <tr>\n",
       "      <th>0</th>\n",
       "      <td>黄同学</td>\n",
       "      <td>Huang tong_xue</td>\n",
       "      <td>男</td>\n",
       "      <td>463895200003128433</td>\n",
       "      <td>mid:175_good</td>\n",
       "      <td>湖北广水</td>\n",
       "      <td>13434813546</td>\n",
       "      <td>1.1万</td>\n",
       "      <td>mid</td>\n",
       "      <td>175_good</td>\n",
       "    </tr>\n",
       "    <tr>\n",
       "      <th>1</th>\n",
       "      <td>黄至尊</td>\n",
       "      <td>huang zhi_zun</td>\n",
       "      <td>women</td>\n",
       "      <td>429475199912122345</td>\n",
       "      <td>low:165_bad</td>\n",
       "      <td>河南信阳</td>\n",
       "      <td>19748672895</td>\n",
       "      <td>8.5千</td>\n",
       "      <td>low</td>\n",
       "      <td>165_bad</td>\n",
       "    </tr>\n",
       "    <tr>\n",
       "      <th>2</th>\n",
       "      <td>黄老邪</td>\n",
       "      <td>Huang Lao_xie</td>\n",
       "      <td>men</td>\n",
       "      <td>420934199110102311</td>\n",
       "      <td>low:159_bad</td>\n",
       "      <td>广西桂林</td>\n",
       "      <td>16728613064</td>\n",
       "      <td>0.9万</td>\n",
       "      <td>low</td>\n",
       "      <td>159_bad</td>\n",
       "    </tr>\n",
       "    <tr>\n",
       "      <th>3</th>\n",
       "      <td>陈大美</td>\n",
       "      <td>Chen Da_mei</td>\n",
       "      <td>女</td>\n",
       "      <td>431085200005230122</td>\n",
       "      <td>high:180_verygood</td>\n",
       "      <td>湖北孝感</td>\n",
       "      <td>14561586431</td>\n",
       "      <td>6.5千</td>\n",
       "      <td>high</td>\n",
       "      <td>180_verygood</td>\n",
       "    </tr>\n",
       "    <tr>\n",
       "      <th>4</th>\n",
       "      <td>孙尚香</td>\n",
       "      <td>sun shang_xiang</td>\n",
       "      <td>男</td>\n",
       "      <td>420953199509082345</td>\n",
       "      <td>low:172_bad</td>\n",
       "      <td>广东广州</td>\n",
       "      <td>19384683910</td>\n",
       "      <td>2.0万</td>\n",
       "      <td>low</td>\n",
       "      <td>172_bad</td>\n",
       "    </tr>\n",
       "  </tbody>\n",
       "</table>\n",
       "</div>"
      ],
      "text/plain": [
       "    姓名              英文名     性别                 身份证                 身高  家庭住址  \\\n",
       "0  黄同学   Huang tong_xue      男  463895200003128433       mid:175_good  湖北广水   \n",
       "1  黄至尊    huang zhi_zun  women  429475199912122345        low:165_bad  河南信阳   \n",
       "2  黄老邪    Huang Lao_xie    men  420934199110102311        low:159_bad  广西桂林   \n",
       "3  陈大美      Chen Da_mei      女  431085200005230122  high:180_verygood  湖北孝感   \n",
       "4  孙尚香  sun shang_xiang      男  420953199509082345        low:172_bad  广东广州   \n",
       "\n",
       "          电话号码    收入  身高描述       final身高  \n",
       "0  13434813546  1.1万   mid      175_good  \n",
       "1  19748672895  8.5千   low       165_bad  \n",
       "2  16728613064  0.9万   low       159_bad  \n",
       "3  14561586431  6.5千  high  180_verygood  \n",
       "4  19384683910  2.0万   low       172_bad  "
      ]
     },
     "execution_count": 42,
     "metadata": {},
     "output_type": "execute_result"
    }
   ],
   "source": [
    "df[\"姓名\"] = df[\"姓名\"].str.strip()\n",
    "df"
   ]
  },
  {
   "cell_type": "code",
   "execution_count": 37,
   "id": "e5c108b4",
   "metadata": {},
   "outputs": [
    {
     "data": {
      "text/plain": [
       "0    3\n",
       "1    3\n",
       "2    3\n",
       "3    3\n",
       "4    3\n",
       "Name: 姓名, dtype: int64"
      ]
     },
     "execution_count": 37,
     "metadata": {},
     "output_type": "execute_result"
    }
   ],
   "source": [
    "df[\"姓名\"].str.len()"
   ]
  },
  {
   "cell_type": "markdown",
   "id": "9201c721",
   "metadata": {},
   "source": [
    "### findall函数 利用正则表达式，去字符串中匹配，返回查找结果的<font color=\"#dd0000\">列表</font>\n",
    "<br /> "
   ]
  },
  {
   "cell_type": "code",
   "execution_count": 43,
   "id": "91ca609f",
   "metadata": {},
   "outputs": [
    {
     "data": {
      "text/plain": [
       "0         mid:175_good\n",
       "1          low:165_bad\n",
       "2          low:159_bad\n",
       "3    high:180_verygood\n",
       "4          low:172_bad\n",
       "Name: 身高, dtype: object"
      ]
     },
     "execution_count": 43,
     "metadata": {},
     "output_type": "execute_result"
    }
   ],
   "source": [
    "df[\"身高\"]"
   ]
  },
  {
   "cell_type": "code",
   "execution_count": 44,
   "id": "37d3cf5b",
   "metadata": {},
   "outputs": [
    {
     "data": {
      "text/plain": [
       "0         [mid, good]\n",
       "1          [low, bad]\n",
       "2          [low, bad]\n",
       "3    [high, verygood]\n",
       "4          [low, bad]\n",
       "Name: 身高, dtype: object"
      ]
     },
     "execution_count": 44,
     "metadata": {},
     "output_type": "execute_result"
    }
   ],
   "source": [
    "df[\"身高\"].str.findall(\"[a-zA-Z]+\")"
   ]
  },
  {
   "cell_type": "markdown",
   "id": "d4989f10",
   "metadata": {},
   "source": [
    "### extract、extractall函数 接受正则表达式，抽取匹配的字符串(一定要加上括号)"
   ]
  },
  {
   "cell_type": "code",
   "execution_count": 46,
   "id": "684b19dd",
   "metadata": {},
   "outputs": [
    {
     "data": {
      "text/html": [
       "<div>\n",
       "<style scoped>\n",
       "    .dataframe tbody tr th:only-of-type {\n",
       "        vertical-align: middle;\n",
       "    }\n",
       "\n",
       "    .dataframe tbody tr th {\n",
       "        vertical-align: top;\n",
       "    }\n",
       "\n",
       "    .dataframe thead th {\n",
       "        text-align: right;\n",
       "    }\n",
       "</style>\n",
       "<table border=\"1\" class=\"dataframe\">\n",
       "  <thead>\n",
       "    <tr style=\"text-align: right;\">\n",
       "      <th></th>\n",
       "      <th>0</th>\n",
       "    </tr>\n",
       "  </thead>\n",
       "  <tbody>\n",
       "    <tr>\n",
       "      <th>0</th>\n",
       "      <td>mid</td>\n",
       "    </tr>\n",
       "    <tr>\n",
       "      <th>1</th>\n",
       "      <td>low</td>\n",
       "    </tr>\n",
       "    <tr>\n",
       "      <th>2</th>\n",
       "      <td>low</td>\n",
       "    </tr>\n",
       "    <tr>\n",
       "      <th>3</th>\n",
       "      <td>high</td>\n",
       "    </tr>\n",
       "    <tr>\n",
       "      <th>4</th>\n",
       "      <td>low</td>\n",
       "    </tr>\n",
       "  </tbody>\n",
       "</table>\n",
       "</div>"
      ],
      "text/plain": [
       "      0\n",
       "0   mid\n",
       "1   low\n",
       "2   low\n",
       "3  high\n",
       "4   low"
      ]
     },
     "execution_count": 46,
     "metadata": {},
     "output_type": "execute_result"
    }
   ],
   "source": [
    "df[\"身高\"].str.extract(\"([a-zA-Z]+)\")"
   ]
  },
  {
   "cell_type": "code",
   "execution_count": 48,
   "id": "b56799f5",
   "metadata": {},
   "outputs": [
    {
     "data": {
      "text/html": [
       "<div>\n",
       "<style scoped>\n",
       "    .dataframe tbody tr th:only-of-type {\n",
       "        vertical-align: middle;\n",
       "    }\n",
       "\n",
       "    .dataframe tbody tr th {\n",
       "        vertical-align: top;\n",
       "    }\n",
       "\n",
       "    .dataframe thead th {\n",
       "        text-align: right;\n",
       "    }\n",
       "</style>\n",
       "<table border=\"1\" class=\"dataframe\">\n",
       "  <thead>\n",
       "    <tr style=\"text-align: right;\">\n",
       "      <th></th>\n",
       "      <th></th>\n",
       "      <th>0</th>\n",
       "    </tr>\n",
       "    <tr>\n",
       "      <th></th>\n",
       "      <th>match</th>\n",
       "      <th></th>\n",
       "    </tr>\n",
       "  </thead>\n",
       "  <tbody>\n",
       "    <tr>\n",
       "      <th rowspan=\"2\" valign=\"top\">0</th>\n",
       "      <th>0</th>\n",
       "      <td>mid</td>\n",
       "    </tr>\n",
       "    <tr>\n",
       "      <th>1</th>\n",
       "      <td>good</td>\n",
       "    </tr>\n",
       "    <tr>\n",
       "      <th rowspan=\"2\" valign=\"top\">1</th>\n",
       "      <th>0</th>\n",
       "      <td>low</td>\n",
       "    </tr>\n",
       "    <tr>\n",
       "      <th>1</th>\n",
       "      <td>bad</td>\n",
       "    </tr>\n",
       "    <tr>\n",
       "      <th rowspan=\"2\" valign=\"top\">2</th>\n",
       "      <th>0</th>\n",
       "      <td>low</td>\n",
       "    </tr>\n",
       "    <tr>\n",
       "      <th>1</th>\n",
       "      <td>bad</td>\n",
       "    </tr>\n",
       "    <tr>\n",
       "      <th rowspan=\"2\" valign=\"top\">3</th>\n",
       "      <th>0</th>\n",
       "      <td>high</td>\n",
       "    </tr>\n",
       "    <tr>\n",
       "      <th>1</th>\n",
       "      <td>verygood</td>\n",
       "    </tr>\n",
       "    <tr>\n",
       "      <th rowspan=\"2\" valign=\"top\">4</th>\n",
       "      <th>0</th>\n",
       "      <td>low</td>\n",
       "    </tr>\n",
       "    <tr>\n",
       "      <th>1</th>\n",
       "      <td>bad</td>\n",
       "    </tr>\n",
       "  </tbody>\n",
       "</table>\n",
       "</div>"
      ],
      "text/plain": [
       "                0\n",
       "  match          \n",
       "0 0           mid\n",
       "  1          good\n",
       "1 0           low\n",
       "  1           bad\n",
       "2 0           low\n",
       "  1           bad\n",
       "3 0          high\n",
       "  1      verygood\n",
       "4 0           low\n",
       "  1           bad"
      ]
     },
     "execution_count": 48,
     "metadata": {},
     "output_type": "execute_result"
    }
   ],
   "source": [
    "# extractall提取得到复合索引\n",
    "df[\"身高\"].str.extractall(\"([a-zA-Z]+)\")"
   ]
  },
  {
   "cell_type": "code",
   "execution_count": 49,
   "id": "b5c14ae0",
   "metadata": {},
   "outputs": [
    {
     "data": {
      "text/html": [
       "<div>\n",
       "<style scoped>\n",
       "    .dataframe tbody tr th:only-of-type {\n",
       "        vertical-align: middle;\n",
       "    }\n",
       "\n",
       "    .dataframe tbody tr th {\n",
       "        vertical-align: top;\n",
       "    }\n",
       "\n",
       "    .dataframe thead th {\n",
       "        text-align: right;\n",
       "    }\n",
       "</style>\n",
       "<table border=\"1\" class=\"dataframe\">\n",
       "  <thead>\n",
       "    <tr style=\"text-align: right;\">\n",
       "      <th></th>\n",
       "      <th>0</th>\n",
       "      <th>1</th>\n",
       "    </tr>\n",
       "  </thead>\n",
       "  <tbody>\n",
       "    <tr>\n",
       "      <th>0</th>\n",
       "      <td>mid</td>\n",
       "      <td>good</td>\n",
       "    </tr>\n",
       "    <tr>\n",
       "      <th>1</th>\n",
       "      <td>low</td>\n",
       "      <td>bad</td>\n",
       "    </tr>\n",
       "    <tr>\n",
       "      <th>2</th>\n",
       "      <td>low</td>\n",
       "      <td>bad</td>\n",
       "    </tr>\n",
       "    <tr>\n",
       "      <th>3</th>\n",
       "      <td>high</td>\n",
       "      <td>verygood</td>\n",
       "    </tr>\n",
       "    <tr>\n",
       "      <th>4</th>\n",
       "      <td>low</td>\n",
       "      <td>bad</td>\n",
       "    </tr>\n",
       "  </tbody>\n",
       "</table>\n",
       "</div>"
      ],
      "text/plain": [
       "      0         1\n",
       "0   mid      good\n",
       "1   low       bad\n",
       "2   low       bad\n",
       "3  high  verygood\n",
       "4   low       bad"
      ]
     },
     "execution_count": 49,
     "metadata": {},
     "output_type": "execute_result"
    }
   ],
   "source": [
    "# extract搭配expand参数\n",
    "df[\"身高\"].str.extract(\"([a-zA-Z]+).*?([a-zA-Z]+)\",expand=True)"
   ]
  },
  {
   "cell_type": "code",
   "execution_count": null,
   "id": "b875378f",
   "metadata": {},
   "outputs": [],
   "source": []
  }
 ],
 "metadata": {
  "kernelspec": {
   "display_name": "Python 3",
   "language": "python",
   "name": "python3"
  },
  "language_info": {
   "codemirror_mode": {
    "name": "ipython",
    "version": 3
   },
   "file_extension": ".py",
   "mimetype": "text/x-python",
   "name": "python",
   "nbconvert_exporter": "python",
   "pygments_lexer": "ipython3",
   "version": "3.9.7"
  }
 },
 "nbformat": 4,
 "nbformat_minor": 5
}
